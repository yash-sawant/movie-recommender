{
 "cells": [
  {
   "cell_type": "code",
   "execution_count": 1,
   "id": "a13abc32",
   "metadata": {},
   "outputs": [],
   "source": [
    "import pandas as pd\n",
    "from ast import literal_eval\n",
    "import numpy as np\n",
    "# import spacy\n",
    "from sklearn.feature_extraction.text import CountVectorizer\n",
    "from sklearn.metrics.pairwise import cosine_similarity\n",
    "import spacy\n"
   ]
  },
  {
   "cell_type": "code",
   "execution_count": 2,
   "id": "324f72d8",
   "metadata": {},
   "outputs": [
    {
     "name": "stdout",
     "output_type": "stream",
     "text": [
      "Dropping 244 rows for null values\n"
     ]
    }
   ],
   "source": [
    "DF = pd.read_csv('../dataset/25k IMDb movie Dataset.csv')\n",
    "DF['Generes'] = DF['Generes'].apply(literal_eval)\n",
    "l = len(DF)\n",
    "DF.dropna(subset=['movie title','Generes', 'Overview'],inplace=True)\n",
    "print('Dropping {} rows for null values'.format(l-len(DF)))\n"
   ]
  },
  {
   "cell_type": "code",
   "execution_count": 17,
   "id": "ca3da9e2",
   "metadata": {
    "scrolled": true
   },
   "outputs": [],
   "source": [
    "# load spacy model\n",
    "# nlp = spacy.load('en_core_web_trf',disable=[\"tok2vec\", \"lemmatizer\", \"tagger\", \"parser\", \"ner\"])\n",
    "nlp = spacy.load('en_core_web_md',disable=[\"lemmatizer\", \"tagger\", \"parser\", \"ner\"])"
   ]
  },
  {
   "cell_type": "code",
   "execution_count": 18,
   "id": "69d86561",
   "metadata": {
    "collapsed": true
   },
   "outputs": [
    {
     "data": {
      "text/plain": [
       "array([-7.15286434e-01,  1.50159001e-01, -3.82413231e-02, -6.14585578e-02,\n",
       "       -8.49802718e-02, -1.03605688e-01, -1.07566468e-01,  7.42619708e-02,\n",
       "        4.06193584e-02,  2.12966895e+00, -2.35867351e-01, -1.04044601e-01,\n",
       "        2.66175605e-02,  2.32709982e-02, -1.52928978e-01, -5.54403253e-02,\n",
       "       -4.88821417e-02,  8.60836804e-01, -1.82898805e-01,  2.69164536e-02,\n",
       "       -1.11148059e-01, -1.88807193e-02,  3.25661078e-02, -1.50020778e-01,\n",
       "       -1.10690042e-01, -6.88232780e-02, -1.34264112e-01,  9.67757776e-02,\n",
       "       -4.86420728e-02, -1.18638709e-01, -7.13014826e-02,  9.20319743e-03,\n",
       "       -8.05772394e-02, -6.85615614e-02,  1.92299277e-01,  7.49235228e-02,\n",
       "       -4.41373549e-02,  6.15791790e-03,  3.38061638e-02,  4.25518379e-02,\n",
       "       -9.19849277e-02, -3.25631537e-02,  1.66780487e-01, -6.85291588e-02,\n",
       "        3.39711979e-02, -5.64226806e-02, -5.75884469e-02,  5.70872724e-02,\n",
       "        9.97459888e-03,  9.77175608e-02,  7.43782446e-02, -4.06935327e-02,\n",
       "        1.21654747e-02,  8.93810093e-02,  1.24143220e-01, -2.51904353e-02,\n",
       "       -1.25076767e-04, -8.74743685e-02,  3.57253081e-03, -7.78960362e-02,\n",
       "       -5.20657524e-02,  3.03916428e-02,  3.00736651e-02,  4.99503948e-02,\n",
       "        1.35735512e-01, -7.48195965e-03,  1.46516785e-02,  3.02547403e-02,\n",
       "       -3.15458775e-02, -2.18976960e-01,  4.81935591e-02,  3.07788756e-02,\n",
       "        4.66173999e-02, -3.84819619e-02,  2.19802380e-01, -1.98102003e-04,\n",
       "        7.58303180e-02,  6.46549389e-02,  4.57356311e-02,  1.04394808e-01,\n",
       "       -2.41821185e-02,  9.59450603e-02, -5.55178449e-02, -4.83159572e-02,\n",
       "       -5.92591725e-02,  3.78589220e-02,  1.60579249e-01, -5.98521605e-02,\n",
       "       -7.66407838e-03, -8.26878101e-02,  3.16715613e-02, -6.17302172e-02,\n",
       "       -7.16219246e-02, -6.40042350e-02, -1.72998771e-01, -1.28688484e-01,\n",
       "        8.70176218e-03, -8.78911838e-03,  7.60501549e-02, -6.27796203e-02,\n",
       "       -1.13758013e-01,  1.84582919e-01, -1.19451873e-01,  1.36108780e-02,\n",
       "        7.50050321e-02, -1.56989884e+00, -4.95430790e-02, -1.22955104e-03,\n",
       "       -6.80860355e-02, -2.37534363e-02, -6.48948401e-02, -2.06922755e-01,\n",
       "       -5.29812230e-03, -1.31444916e-01, -7.30654299e-02, -4.36405577e-02,\n",
       "        5.08906227e-03, -1.16130419e-01,  7.18137436e-03, -2.13808510e-02,\n",
       "       -1.56584419e-02,  1.00555614e-01,  6.24570288e-02, -1.19007006e-01,\n",
       "        4.55369474e-03,  2.31889170e-02,  1.08032078e-01, -5.87349124e-02,\n",
       "       -7.83699900e-02,  7.98944682e-02,  2.96165254e-02, -7.67711177e-02,\n",
       "       -3.08367591e-02,  1.02282785e-01,  8.44543055e-02,  4.99020563e-03,\n",
       "       -2.14214116e-01, -3.83323207e-02, -1.35054275e-01, -2.26758383e-02,\n",
       "       -8.70433033e-01,  1.70890242e-01,  1.97595209e-01,  4.14706767e-02,\n",
       "        1.66250411e-02, -3.18924263e-02, -3.90813649e-02,  8.92885625e-02,\n",
       "       -3.64582762e-02, -9.63391960e-02,  7.95235857e-02,  1.42960280e-01,\n",
       "        1.03273965e-01,  1.46279871e-01, -4.20794822e-02, -1.97139978e-02,\n",
       "       -3.35320793e-02,  9.16729867e-02, -1.14787929e-01, -5.81553541e-02,\n",
       "        2.49855667e-02,  9.41673666e-02,  1.81627218e-02,  4.35357317e-02,\n",
       "       -1.89032733e-01,  1.33379214e-02,  9.14719179e-02, -8.14612806e-02,\n",
       "        5.52526563e-02,  2.07605213e-02,  3.55903395e-02,  8.23583677e-02,\n",
       "        7.48854578e-02,  8.99081007e-02,  9.69407931e-02, -7.73144141e-03,\n",
       "       -1.74681276e-01,  8.69960412e-02,  1.40949070e-01,  4.74651083e-02,\n",
       "        2.96041481e-02,  2.39989851e-02, -2.30064377e-01,  6.23597354e-02,\n",
       "       -1.01477563e-01,  1.40234798e-01,  5.42261580e-04, -5.20290285e-02,\n",
       "       -4.95589748e-02,  1.73132986e-01,  1.89922735e-01, -1.66436583e-01,\n",
       "        2.59053688e-02,  6.15951158e-02, -3.52277197e-02, -1.44475520e-01,\n",
       "        5.87663949e-02, -4.85616215e-02, -8.54400843e-02,  8.75688717e-02,\n",
       "        9.52386633e-02, -2.77760215e-02,  1.12048805e-01,  1.31118387e-01,\n",
       "       -1.22628488e-01, -4.36975993e-03, -5.03641367e-02,  9.28176418e-02,\n",
       "        8.07411969e-02, -7.13200346e-02,  5.28959907e-04,  1.01756297e-01,\n",
       "        7.24895597e-02,  5.67051806e-02,  4.92517725e-02, -6.20802306e-02,\n",
       "       -2.11428460e-02,  1.65472776e-01, -1.01052389e-01, -3.79428416e-02,\n",
       "        2.86586513e-03,  1.23629570e-01, -1.49015650e-01, -1.99954808e-01,\n",
       "       -6.82775676e-02, -1.13231145e-01,  4.70102392e-02, -3.74487787e-02,\n",
       "       -1.76536327e-03, -3.95257622e-02,  3.45054343e-02, -9.09713730e-02,\n",
       "        1.59617886e-01, -5.48890121e-02, -9.56156924e-02,  4.15410846e-02,\n",
       "        7.81776309e-02, -1.09535992e-01, -1.79234464e-02, -3.57340276e-02,\n",
       "       -1.22423628e-02, -7.76642039e-02, -3.28676365e-02,  1.56242087e-01,\n",
       "        8.25577229e-02, -5.51328771e-02,  7.23334476e-02,  5.71426302e-02,\n",
       "        4.83220369e-02,  2.38029622e-02,  2.70941667e-02,  7.44083002e-02,\n",
       "        4.25293557e-02,  1.29516385e-02, -1.18104585e-01,  1.57227129e-01,\n",
       "       -1.09627374e-01,  4.46204059e-02,  1.92098003e-02,  1.30852163e-01,\n",
       "       -1.10478833e-01,  1.23766594e-01, -1.85927600e-02,  2.41759554e-01,\n",
       "       -3.80374826e-02, -1.71179727e-01,  1.15534328e-02,  3.44685204e-02,\n",
       "        2.15406492e-01, -1.43446755e-02,  2.14421734e-01, -5.59341051e-02,\n",
       "       -2.02845074e-02, -2.12474167e-01, -2.14120634e-02,  8.16737562e-02,\n",
       "       -3.82888168e-02,  5.35693625e-03, -5.01114465e-02,  2.05583870e-01,\n",
       "        2.44570151e-02,  5.51396124e-02, -4.32750992e-02,  7.47918338e-02,\n",
       "        3.57041396e-02,  2.06104711e-01,  5.34430109e-02, -5.92998825e-02,\n",
       "        1.16200335e-02, -7.27124438e-02, -2.65321106e-01,  1.15101770e-01,\n",
       "       -5.44874370e-02,  4.51042354e-02, -6.83965907e-02,  1.16792649e-01,\n",
       "        3.42525244e-02, -2.03103319e-01,  1.61334187e-01, -1.91819258e-02],\n",
       "      dtype=float32)"
      ]
     },
     "execution_count": 18,
     "metadata": {},
     "output_type": "execute_result"
    }
   ],
   "source": [
    "nlp(DF['Overview']).vector"
   ]
  },
  {
   "cell_type": "code",
   "execution_count": 19,
   "id": "6467e4af",
   "metadata": {},
   "outputs": [
    {
     "name": "stdout",
     "output_type": "stream",
     "text": [
      "CPU times: total: 1min 26s\n",
      "Wall time: 3min 57s\n"
     ]
    }
   ],
   "source": [
    "%%time\n",
    "transformed_overview = DF['Overview'].apply(lambda p:nlp(p).vector)"
   ]
  },
  {
   "cell_type": "code",
   "execution_count": 39,
   "id": "bf0a171d",
   "metadata": {},
   "outputs": [],
   "source": [
    "import pickle\n",
    "with open('../dataset/encoded_overview_md.pkl', \"wb\") as f:\n",
    "    pickle.dump(transformed_overview, f)"
   ]
  },
  {
   "cell_type": "code",
   "execution_count": 11,
   "id": "3deaf494",
   "metadata": {},
   "outputs": [],
   "source": [
    "# import pickle\n",
    "# with open('../dataset/encoded_overview.pkl', \"wb\") as f:\n",
    "#     pickle.dump(transformed_overview, f)"
   ]
  },
  {
   "cell_type": "code",
   "execution_count": null,
   "id": "8c567e9e",
   "metadata": {},
   "outputs": [],
   "source": [
    "with open('../dataset/encoded_overview_md.pkl', \"rb\") as f:\n",
    "    transformed_overview = pickle.load(f)"
   ]
  },
  {
   "cell_type": "code",
   "execution_count": 38,
   "id": "038443ea",
   "metadata": {},
   "outputs": [],
   "source": [
    "transformed_overview = np.stack(transformed_overview.values)"
   ]
  },
  {
   "cell_type": "code",
   "execution_count": null,
   "id": "bf2a10c2",
   "metadata": {},
   "outputs": [],
   "source": [
    "# load spacy model\n",
    "nlp = spacy.load('en_core_web_trf',disable=[\"tok2vec\", \"lemmatizer\", \"tagger\", \"parser\", \"ner\"])\n",
    "ENCODED_OVERVIEW_PATH = 'encoded_overview.pkl'\n",
    "transformed_overview = []\n",
    "if os.path.exists(ENCODED_OVERVIEW_PATH):\n",
    "    with open(ENCODED_OVERVIEW_PATH, \"rb\") as f:\n",
    "        transformed_overview = pickle.load(f)\n",
    "if transformed_overview.shape[0] != len(DF):\n",
    "    transformed_overview = DF['Overview'].apply(lambda p:nlp(p).vector)\n",
    "    with open(ENCODED_OVERVIEW_PATH, \"wb\") as f:\n",
    "        pickle.dump(transformed_overview, f)\n"
   ]
  },
  {
   "cell_type": "code",
   "execution_count": 6,
   "id": "aa389fb4",
   "metadata": {},
   "outputs": [],
   "source": [
    "GENRES = DF['Generes'].explode().unique().tolist()\n",
    "genre_series = DF['Generes'].apply(' '.join)\n",
    "genre_vectorizer = CountVectorizer()\n",
    "genre_vectorizer.fit(GENRES)\n",
    "transformed_genres = genre_vectorizer.transform(genre_series)"
   ]
  },
  {
   "cell_type": "code",
   "execution_count": 16,
   "id": "79790079",
   "metadata": {},
   "outputs": [],
   "source": [
    "input_list = ['action', 'adult']\n",
    "transformed_il = genre_vectorizer.transform([' '.join(input_list)])\n",
    "similarity_scores = cosine_similarity(transformed_il, transformed_genres).reshape((-1))        "
   ]
  },
  {
   "cell_type": "code",
   "execution_count": 24,
   "id": "5c57eb52",
   "metadata": {},
   "outputs": [
    {
     "data": {
      "text/plain": [
       "array([12200, 16258, 16257, ...,  6140,  6171,  5605], dtype=int64)"
      ]
     },
     "execution_count": 24,
     "metadata": {},
     "output_type": "execute_result"
    }
   ],
   "source": [
    "np.argsort(similarity_scores.reshape((-1)))"
   ]
  },
  {
   "cell_type": "code",
   "execution_count": 28,
   "id": "19e3f487",
   "metadata": {},
   "outputs": [
    {
     "data": {
      "text/plain": [
       "array([ 5605,  6171,  6140, ..., 16257, 16258, 12200], dtype=int64)"
      ]
     },
     "execution_count": 28,
     "metadata": {},
     "output_type": "execute_result"
    }
   ],
   "source": [
    "np.argsort(similarity_scores.reshape((-1)))[::-1]"
   ]
  },
  {
   "cell_type": "code",
   "execution_count": 43,
   "id": "34053732",
   "metadata": {},
   "outputs": [
    {
     "data": {
      "text/plain": [
       "array([9, 8])"
      ]
     },
     "execution_count": 43,
     "metadata": {},
     "output_type": "execute_result"
    }
   ],
   "source": [
    "a = np.array((range(1,10)))\n",
    "a[-2:][::-1]"
   ]
  },
  {
   "cell_type": "code",
   "execution_count": null,
   "id": "80cf9da9",
   "metadata": {},
   "outputs": [],
   "source": []
  },
  {
   "cell_type": "code",
   "execution_count": 44,
   "id": "fa0d6c89",
   "metadata": {},
   "outputs": [
    {
     "data": {
      "text/html": [
       "<div>\n",
       "<style scoped>\n",
       "    .dataframe tbody tr th:only-of-type {\n",
       "        vertical-align: middle;\n",
       "    }\n",
       "\n",
       "    .dataframe tbody tr th {\n",
       "        vertical-align: top;\n",
       "    }\n",
       "\n",
       "    .dataframe thead th {\n",
       "        text-align: right;\n",
       "    }\n",
       "</style>\n",
       "<table border=\"1\" class=\"dataframe\">\n",
       "  <thead>\n",
       "    <tr style=\"text-align: right;\">\n",
       "      <th></th>\n",
       "      <th>movie title</th>\n",
       "      <th>Run Time</th>\n",
       "      <th>Rating</th>\n",
       "      <th>User Rating</th>\n",
       "      <th>Generes</th>\n",
       "      <th>Overview</th>\n",
       "      <th>Plot Kyeword</th>\n",
       "      <th>Director</th>\n",
       "      <th>Top 5 Casts</th>\n",
       "      <th>Writer</th>\n",
       "      <th>year</th>\n",
       "      <th>path</th>\n",
       "    </tr>\n",
       "  </thead>\n",
       "  <tbody>\n",
       "    <tr>\n",
       "      <th>5605</th>\n",
       "      <td>Pit Fighter</td>\n",
       "      <td>1 hour 23 minutes</td>\n",
       "      <td>4.3</td>\n",
       "      <td>1.2K</td>\n",
       "      <td>[Action]</td>\n",
       "      <td>Jack Severino has no memory, all he knows is t...</td>\n",
       "      <td>['dog fighting', 'pit fighter', 'wrestling', '...</td>\n",
       "      <td>Jesse V. Johnson</td>\n",
       "      <td>['Dominiquie Vandenberg', 'Steven Bauer', 'Fer...</td>\n",
       "      <td>Jesse V. Johnson</td>\n",
       "      <td>-2005</td>\n",
       "      <td>/title/tt0396096/</td>\n",
       "    </tr>\n",
       "    <tr>\n",
       "      <th>6171</th>\n",
       "      <td>Ken Arok - Ken Dedes</td>\n",
       "      <td>not-released</td>\n",
       "      <td>7.5</td>\n",
       "      <td>21</td>\n",
       "      <td>[Action]</td>\n",
       "      <td>A traditional Javanese story based on historic...</td>\n",
       "      <td>[]</td>\n",
       "      <td>Djun Saptohadi</td>\n",
       "      <td>['Wiyono Soewardjo', 'Bram Adrianto', 'Baron A...</td>\n",
       "      <td>Djoko S. Koesdiman</td>\n",
       "      <td>-1983</td>\n",
       "      <td>/title/tt1729204/</td>\n",
       "    </tr>\n",
       "    <tr>\n",
       "      <th>6140</th>\n",
       "      <td>Kilabot sa Makiling</td>\n",
       "      <td>not-released</td>\n",
       "      <td>no-rating</td>\n",
       "      <td>0</td>\n",
       "      <td>[Action]</td>\n",
       "      <td>NaN</td>\n",
       "      <td>[]</td>\n",
       "      <td>Armando Garces</td>\n",
       "      <td>['Cecilio V. Pamintuan', 'Jose L. Santos', 'Ma...</td>\n",
       "      <td>Bert R. Mendoza</td>\n",
       "      <td>-1959</td>\n",
       "      <td>/title/tt0370847/</td>\n",
       "    </tr>\n",
       "    <tr>\n",
       "      <th>2845</th>\n",
       "      <td>I Am Vengeance: Retaliation</td>\n",
       "      <td>not-released</td>\n",
       "      <td>3.4</td>\n",
       "      <td>2.9K</td>\n",
       "      <td>[Action]</td>\n",
       "      <td>Former special-forces soldier John Gold is giv...</td>\n",
       "      <td>['sleeper hold', 'woman knocks out man', 'sold...</td>\n",
       "      <td>Ross Boyask</td>\n",
       "      <td>['Stu Bennett', 'Vinnie Jones', 'Jacob Anderto...</td>\n",
       "      <td>Ross Boyask</td>\n",
       "      <td>-2020</td>\n",
       "      <td>/title/tt8972556/</td>\n",
       "    </tr>\n",
       "    <tr>\n",
       "      <th>1941</th>\n",
       "      <td>Blind War</td>\n",
       "      <td>not-released</td>\n",
       "      <td>6.7</td>\n",
       "      <td>44</td>\n",
       "      <td>[Action]</td>\n",
       "      <td>The film tells the story of the former SWAT ca...</td>\n",
       "      <td>['mission']</td>\n",
       "      <td>Suiqiang Huo</td>\n",
       "      <td>['Pingqing Chen', 'Dao Dao', 'Waise Lee', 'Sui...</td>\n",
       "      <td>Laogou Lin</td>\n",
       "      <td>-2022</td>\n",
       "      <td>/title/tt17909448/</td>\n",
       "    </tr>\n",
       "    <tr>\n",
       "      <th>...</th>\n",
       "      <td>...</td>\n",
       "      <td>...</td>\n",
       "      <td>...</td>\n",
       "      <td>...</td>\n",
       "      <td>...</td>\n",
       "      <td>...</td>\n",
       "      <td>...</td>\n",
       "      <td>...</td>\n",
       "      <td>...</td>\n",
       "      <td>...</td>\n",
       "      <td>...</td>\n",
       "      <td>...</td>\n",
       "    </tr>\n",
       "    <tr>\n",
       "      <th>16255</th>\n",
       "      <td>Bill &amp; Ted's Bogus Journey</td>\n",
       "      <td>$20,000,000 (estimated)</td>\n",
       "      <td>6.3</td>\n",
       "      <td>76K</td>\n",
       "      <td>[Adventure, Comedy, Fantasy]</td>\n",
       "      <td>A tyrant from the future creates evil android ...</td>\n",
       "      <td>['musician', 'death character', 'time machine'...</td>\n",
       "      <td>Peter Hewitt</td>\n",
       "      <td>['Ed Solomon', 'Keanu Reeves', 'Alex Winter', ...</td>\n",
       "      <td>Chris Matheson</td>\n",
       "      <td>-1991</td>\n",
       "      <td>/title/tt0101452/</td>\n",
       "    </tr>\n",
       "    <tr>\n",
       "      <th>16256</th>\n",
       "      <td>Surf's Up</td>\n",
       "      <td>$100,000,000 (estimated)</td>\n",
       "      <td>6.7</td>\n",
       "      <td>79K</td>\n",
       "      <td>[Animation, Adventure, Comedy]</td>\n",
       "      <td>A behind-the-scenes look at the annual Penguin...</td>\n",
       "      <td>['anthropomorphic penguin', 'surfing', 'pengui...</td>\n",
       "      <td>Ash Brannon</td>\n",
       "      <td>['Don Rhymer', 'Ash Brannon', 'Chris Buck', 'S...</td>\n",
       "      <td>Chris Buck</td>\n",
       "      <td>-2007</td>\n",
       "      <td>/title/tt0423294/</td>\n",
       "    </tr>\n",
       "    <tr>\n",
       "      <th>16257</th>\n",
       "      <td>Major Payne</td>\n",
       "      <td>1 hour 35 minutes</td>\n",
       "      <td>6.2</td>\n",
       "      <td>35K</td>\n",
       "      <td>[Adventure, Comedy, Family]</td>\n",
       "      <td>A recently discharged Major finds himself comm...</td>\n",
       "      <td>['drill instructor', 'german shepherd dog', 'c...</td>\n",
       "      <td>Nick Castle</td>\n",
       "      <td>['Bob Mosher', 'William Roberts', 'Damon Wayan...</td>\n",
       "      <td>Joe Connelly</td>\n",
       "      <td>-1995</td>\n",
       "      <td>/title/tt0110443/</td>\n",
       "    </tr>\n",
       "    <tr>\n",
       "      <th>16258</th>\n",
       "      <td>The Muppets</td>\n",
       "      <td>$45,000,000 (estimated)</td>\n",
       "      <td>7.1</td>\n",
       "      <td>92K</td>\n",
       "      <td>[Adventure, Comedy, Family]</td>\n",
       "      <td>A Muppet fanatic with some help from his 2 hum...</td>\n",
       "      <td>['nightmare', 'charlie chaplin character', 'mi...</td>\n",
       "      <td>James Bobin</td>\n",
       "      <td>['Nicholas Stoller', 'Jim Henson', 'Amy Adams'...</td>\n",
       "      <td>Jason Segel</td>\n",
       "      <td>-2011</td>\n",
       "      <td>/title/tt1204342/</td>\n",
       "    </tr>\n",
       "    <tr>\n",
       "      <th>12200</th>\n",
       "      <td>The Wild One</td>\n",
       "      <td>1 hour 19 minutes</td>\n",
       "      <td>6.8</td>\n",
       "      <td>16K</td>\n",
       "      <td>[Crime, Drama, Romance]</td>\n",
       "      <td>Two rival motorcycle gangs terrorize a small t...</td>\n",
       "      <td>['angry mob', 'bar', 'motorcycle', 'small town...</td>\n",
       "      <td>Laslo Benedek</td>\n",
       "      <td>['Frank Rooney', 'Ben Maddow', 'Marlon Brando'...</td>\n",
       "      <td>John Paxton</td>\n",
       "      <td>-1953</td>\n",
       "      <td>/title/tt0047677/</td>\n",
       "    </tr>\n",
       "  </tbody>\n",
       "</table>\n",
       "<p>24402 rows × 12 columns</p>\n",
       "</div>"
      ],
      "text/plain": [
       "                       movie title                  Run Time     Rating  \\\n",
       "5605                   Pit Fighter         1 hour 23 minutes        4.3   \n",
       "6171          Ken Arok - Ken Dedes              not-released        7.5   \n",
       "6140           Kilabot sa Makiling              not-released  no-rating   \n",
       "2845   I Am Vengeance: Retaliation              not-released        3.4   \n",
       "1941                     Blind War              not-released        6.7   \n",
       "...                            ...                       ...        ...   \n",
       "16255   Bill & Ted's Bogus Journey   $20,000,000 (estimated)        6.3   \n",
       "16256                    Surf's Up  $100,000,000 (estimated)        6.7   \n",
       "16257                  Major Payne         1 hour 35 minutes        6.2   \n",
       "16258                  The Muppets   $45,000,000 (estimated)        7.1   \n",
       "12200                 The Wild One         1 hour 19 minutes        6.8   \n",
       "\n",
       "      User Rating                         Generes  \\\n",
       "5605         1.2K                        [Action]   \n",
       "6171           21                        [Action]   \n",
       "6140            0                        [Action]   \n",
       "2845         2.9K                        [Action]   \n",
       "1941           44                        [Action]   \n",
       "...           ...                             ...   \n",
       "16255         76K    [Adventure, Comedy, Fantasy]   \n",
       "16256         79K  [Animation, Adventure, Comedy]   \n",
       "16257         35K     [Adventure, Comedy, Family]   \n",
       "16258         92K     [Adventure, Comedy, Family]   \n",
       "12200         16K         [Crime, Drama, Romance]   \n",
       "\n",
       "                                                Overview  \\\n",
       "5605   Jack Severino has no memory, all he knows is t...   \n",
       "6171   A traditional Javanese story based on historic...   \n",
       "6140                                                 NaN   \n",
       "2845   Former special-forces soldier John Gold is giv...   \n",
       "1941   The film tells the story of the former SWAT ca...   \n",
       "...                                                  ...   \n",
       "16255  A tyrant from the future creates evil android ...   \n",
       "16256  A behind-the-scenes look at the annual Penguin...   \n",
       "16257  A recently discharged Major finds himself comm...   \n",
       "16258  A Muppet fanatic with some help from his 2 hum...   \n",
       "12200  Two rival motorcycle gangs terrorize a small t...   \n",
       "\n",
       "                                            Plot Kyeword          Director  \\\n",
       "5605   ['dog fighting', 'pit fighter', 'wrestling', '...  Jesse V. Johnson   \n",
       "6171                                                  []    Djun Saptohadi   \n",
       "6140                                                  []    Armando Garces   \n",
       "2845   ['sleeper hold', 'woman knocks out man', 'sold...       Ross Boyask   \n",
       "1941                                         ['mission']      Suiqiang Huo   \n",
       "...                                                  ...               ...   \n",
       "16255  ['musician', 'death character', 'time machine'...      Peter Hewitt   \n",
       "16256  ['anthropomorphic penguin', 'surfing', 'pengui...       Ash Brannon   \n",
       "16257  ['drill instructor', 'german shepherd dog', 'c...       Nick Castle   \n",
       "16258  ['nightmare', 'charlie chaplin character', 'mi...       James Bobin   \n",
       "12200  ['angry mob', 'bar', 'motorcycle', 'small town...     Laslo Benedek   \n",
       "\n",
       "                                             Top 5 Casts              Writer  \\\n",
       "5605   ['Dominiquie Vandenberg', 'Steven Bauer', 'Fer...    Jesse V. Johnson   \n",
       "6171   ['Wiyono Soewardjo', 'Bram Adrianto', 'Baron A...  Djoko S. Koesdiman   \n",
       "6140   ['Cecilio V. Pamintuan', 'Jose L. Santos', 'Ma...     Bert R. Mendoza   \n",
       "2845   ['Stu Bennett', 'Vinnie Jones', 'Jacob Anderto...         Ross Boyask   \n",
       "1941   ['Pingqing Chen', 'Dao Dao', 'Waise Lee', 'Sui...          Laogou Lin   \n",
       "...                                                  ...                 ...   \n",
       "16255  ['Ed Solomon', 'Keanu Reeves', 'Alex Winter', ...      Chris Matheson   \n",
       "16256  ['Don Rhymer', 'Ash Brannon', 'Chris Buck', 'S...          Chris Buck   \n",
       "16257  ['Bob Mosher', 'William Roberts', 'Damon Wayan...        Joe Connelly   \n",
       "16258  ['Nicholas Stoller', 'Jim Henson', 'Amy Adams'...         Jason Segel   \n",
       "12200  ['Frank Rooney', 'Ben Maddow', 'Marlon Brando'...         John Paxton   \n",
       "\n",
       "        year                path  \n",
       "5605   -2005   /title/tt0396096/  \n",
       "6171   -1983   /title/tt1729204/  \n",
       "6140   -1959   /title/tt0370847/  \n",
       "2845   -2020   /title/tt8972556/  \n",
       "1941   -2022  /title/tt17909448/  \n",
       "...      ...                 ...  \n",
       "16255  -1991   /title/tt0101452/  \n",
       "16256  -2007   /title/tt0423294/  \n",
       "16257  -1995   /title/tt0110443/  \n",
       "16258  -2011   /title/tt1204342/  \n",
       "12200  -1953   /title/tt0047677/  \n",
       "\n",
       "[24402 rows x 12 columns]"
      ]
     },
     "execution_count": 44,
     "metadata": {},
     "output_type": "execute_result"
    }
   ],
   "source": [
    "DF.iloc[np.argsort(similarity_scores.reshape((-1)))[::-1],:]"
   ]
  },
  {
   "cell_type": "code",
   "execution_count": 15,
   "id": "843c0c5c",
   "metadata": {},
   "outputs": [
    {
     "data": {
      "text/plain": [
       "'action adult'"
      ]
     },
     "execution_count": 15,
     "metadata": {},
     "output_type": "execute_result"
    }
   ],
   "source": [
    "np.argsort()"
   ]
  },
  {
   "cell_type": "code",
   "execution_count": 47,
   "id": "4c2bf4c6",
   "metadata": {},
   "outputs": [],
   "source": [
    "title = 'The Muppets'"
   ]
  },
  {
   "cell_type": "code",
   "execution_count": 53,
   "id": "21cf68d1",
   "metadata": {},
   "outputs": [],
   "source": [
    "input_row = DF[DF['movie title'] == title]\n",
    "input_overview = input_row['Overview']\n",
    "ignore_idx = input_row.index"
   ]
  },
  {
   "cell_type": "code",
   "execution_count": 56,
   "id": "0b363631",
   "metadata": {},
   "outputs": [
    {
     "data": {
      "text/plain": [
       "16258"
      ]
     },
     "execution_count": 56,
     "metadata": {},
     "output_type": "execute_result"
    }
   ],
   "source": [
    "ignore_idx.values[0]"
   ]
  },
  {
   "cell_type": "code",
   "execution_count": 52,
   "id": "17a7bfe6",
   "metadata": {},
   "outputs": [
    {
     "data": {
      "text/plain": [
       "Series([], Name: Overview, dtype: object)"
      ]
     },
     "execution_count": 52,
     "metadata": {},
     "output_type": "execute_result"
    }
   ],
   "source": [
    "input_overview"
   ]
  },
  {
   "cell_type": "code",
   "execution_count": null,
   "id": "dc38d739",
   "metadata": {},
   "outputs": [],
   "source": []
  },
  {
   "cell_type": "code",
   "execution_count": 72,
   "id": "27e4ca56",
   "metadata": {
    "scrolled": true
   },
   "outputs": [
    {
     "name": "stdout",
     "output_type": "stream",
     "text": [
      "movie title                                               Varayan\n",
      "Run Time                                       2 hours 23 minutes\n",
      "Rating                                                        9.2\n",
      "User Rating                                                   765\n",
      "Generes                                           [Action, Drama]\n",
      "Overview                                                      NaN\n",
      "Plot Kyeword                                                   []\n",
      "Director                                              Jijo Joseph\n",
      "Top 5 Casts     ['Leona Lishoy', 'Siju Wilson', 'Jude Anthany ...\n",
      "Writer                                             Danny Capuchin\n",
      "year                                                        -2022\n",
      "path                                           /title/tt11623854/\n",
      "Name: 4239, dtype: object\n",
      "<class 'float'>\n",
      "nan\n",
      "movie title                               Instruments of Darkness\n",
      "Run Time                                                    Color\n",
      "Rating                                                        6.5\n",
      "User Rating                                                    40\n",
      "Generes                                  [Action, Drama, Fantasy]\n",
      "Overview                                                      NaN\n",
      "Plot Kyeword    [\"shakespeare's macbeth\", 'based on play', 'ba...\n",
      "Director                                            Vincent Regan\n",
      "Top 5 Casts     ['William Shakespeare', 'Sean Bean', 'Charles ...\n",
      "Writer                                              Vincent Regan\n",
      "year                                                        -2014\n",
      "path                                            /title/tt0338258/\n",
      "Name: 7529, dtype: object\n",
      "<class 'float'>\n",
      "nan\n",
      "movie title                              Gunfight at Silver Creek\n",
      "Run Time                                                    Color\n",
      "Rating                                                        6.2\n",
      "User Rating                                                     8\n",
      "Generes                                         [Action, Western]\n",
      "Overview                                                      NaN\n",
      "Plot Kyeword                                                   []\n",
      "Director                                              Tony London\n",
      "Top 5 Casts     ['Cheryl Neve', 'Jim Beaver', 'Jennifer Runyon...\n",
      "Writer                                                Tony London\n",
      "year                                                        -2020\n",
      "path                                           /title/tt10398376/\n",
      "Name: 7888, dtype: object\n",
      "<class 'float'>\n",
      "nan\n",
      "movie title                                        Avatar Purusha\n",
      "Run Time                                        2 hours 8 minutes\n",
      "Rating                                                        6.8\n",
      "User Rating                                                   301\n",
      "Generes                                         [Comedy, Mystery]\n",
      "Overview                                                      NaN\n",
      "Plot Kyeword                                                   []\n",
      "Director                                                     Suni\n",
      "Top 5 Casts     ['Sharan', 'Ashika Ranganath', 'Sai Kumar', 'S...\n",
      "Writer                                                       Suni\n",
      "year                                                        -2022\n",
      "path                                           /title/tt11651768/\n",
      "Name: 18924, dtype: object\n",
      "<class 'float'>\n",
      "nan\n",
      "movie title                                         Goodbye Lover\n",
      "Run Time                                        1 hour 42 minutes\n",
      "Rating                                                        5.6\n",
      "User Rating                                                  4.1K\n",
      "Generes                                  [Comedy, Crime, Mystery]\n",
      "Overview                                                      NaN\n",
      "Plot Kyeword    ['black pantyhose', 'pantyhose', 'alcoholic', ...\n",
      "Director                                             Roland Joffé\n",
      "Top 5 Casts     ['Joel Cohen', 'Alec Sokolow', 'Patricia Arque...\n",
      "Writer                                                   Ron Peer\n",
      "year                                                        -1998\n",
      "path                                            /title/tt0119219/\n",
      "Name: 21858, dtype: object\n",
      "<class 'float'>\n",
      "nan\n",
      "movie title                                        Karanlik Madde\n",
      "Run Time                                        1 hour 30 minutes\n",
      "Rating                                                        5.2\n",
      "User Rating                                                    23\n",
      "Generes                                     [Adventure, Thriller]\n",
      "Overview                                                      NaN\n",
      "Plot Kyeword                                                   []\n",
      "Director                                              Iman Tahsin\n",
      "Top 5 Casts     ['Nihan Asici', 'Cüneyt Gazioglu', 'Enise Kurb...\n",
      "Writer                                                Iman Tahsin\n",
      "year                                                        -2022\n",
      "path                                           /title/tt20753410/\n",
      "Name: 23065, dtype: object\n",
      "<class 'float'>\n",
      "nan\n"
     ]
    }
   ],
   "source": [
    "for i,row in DF.iterrows():\n",
    "    if type(row['Overview']) != str:\n",
    "        if row['Run Time'] != 'not-released':\n",
    "            print(row)\n",
    "            print(type(row['Overview']))\n",
    "            print(row['Overview'])"
   ]
  },
  {
   "cell_type": "code",
   "execution_count": 70,
   "id": "7324d39e",
   "metadata": {},
   "outputs": [
    {
     "data": {
      "text/html": [
       "<div>\n",
       "<style scoped>\n",
       "    .dataframe tbody tr th:only-of-type {\n",
       "        vertical-align: middle;\n",
       "    }\n",
       "\n",
       "    .dataframe tbody tr th {\n",
       "        vertical-align: top;\n",
       "    }\n",
       "\n",
       "    .dataframe thead th {\n",
       "        text-align: right;\n",
       "    }\n",
       "</style>\n",
       "<table border=\"1\" class=\"dataframe\">\n",
       "  <thead>\n",
       "    <tr style=\"text-align: right;\">\n",
       "      <th></th>\n",
       "      <th>movie title</th>\n",
       "      <th>Run Time</th>\n",
       "      <th>Rating</th>\n",
       "      <th>User Rating</th>\n",
       "      <th>Generes</th>\n",
       "      <th>Overview</th>\n",
       "      <th>Plot Kyeword</th>\n",
       "      <th>Director</th>\n",
       "      <th>Top 5 Casts</th>\n",
       "      <th>Writer</th>\n",
       "      <th>year</th>\n",
       "      <th>path</th>\n",
       "    </tr>\n",
       "  </thead>\n",
       "  <tbody>\n",
       "  </tbody>\n",
       "</table>\n",
       "</div>"
      ],
      "text/plain": [
       "Empty DataFrame\n",
       "Columns: [movie title, Run Time, Rating, User Rating, Generes, Overview, Plot Kyeword, Director, Top 5 Casts, Writer, year, path]\n",
       "Index: []"
      ]
     },
     "execution_count": 70,
     "metadata": {},
     "output_type": "execute_result"
    }
   ],
   "source": [
    "DF[DF['Overview'] == np.nan]"
   ]
  },
  {
   "cell_type": "code",
   "execution_count": 57,
   "id": "c314039c",
   "metadata": {},
   "outputs": [],
   "source": [
    "import spacy\n",
    "import numpy as np\n",
    "from sklearn.metrics.pairwise import cosine_similarity\n",
    "\n",
    "# load spacy model\n",
    "nlp = spacy.load('en_core_web_md')\n"
   ]
  },
  {
   "cell_type": "code",
   "execution_count": 59,
   "id": "7eb4de00",
   "metadata": {
    "collapsed": true
   },
   "outputs": [
    {
     "name": "stdout",
     "output_type": "stream",
     "text": [
      "nan\n",
      "nan\n",
      "nan\n",
      "nan\n",
      "nan\n",
      "nan\n",
      "nan\n",
      "nan\n",
      "nan\n",
      "nan\n",
      "nan\n",
      "nan\n",
      "nan\n",
      "nan\n",
      "nan\n",
      "nan\n",
      "nan\n",
      "nan\n",
      "nan\n",
      "nan\n",
      "nan\n",
      "nan\n",
      "nan\n",
      "nan\n",
      "nan\n",
      "nan\n",
      "nan\n",
      "nan\n",
      "nan\n",
      "nan\n",
      "nan\n",
      "nan\n",
      "nan\n",
      "nan\n",
      "nan\n",
      "nan\n",
      "nan\n",
      "nan\n",
      "nan\n",
      "nan\n",
      "nan\n",
      "nan\n",
      "nan\n",
      "nan\n",
      "nan\n",
      "nan\n",
      "nan\n",
      "nan\n",
      "nan\n",
      "nan\n",
      "nan\n",
      "nan\n",
      "nan\n",
      "nan\n",
      "nan\n",
      "nan\n",
      "nan\n",
      "nan\n",
      "nan\n",
      "nan\n",
      "nan\n",
      "nan\n",
      "nan\n",
      "nan\n",
      "nan\n",
      "nan\n",
      "nan\n",
      "nan\n",
      "nan\n",
      "nan\n",
      "nan\n",
      "nan\n",
      "nan\n",
      "nan\n",
      "nan\n",
      "nan\n",
      "nan\n",
      "nan\n",
      "nan\n",
      "nan\n",
      "nan\n",
      "nan\n",
      "nan\n",
      "nan\n",
      "nan\n",
      "nan\n",
      "nan\n",
      "nan\n",
      "nan\n",
      "nan\n",
      "nan\n",
      "nan\n",
      "nan\n",
      "nan\n",
      "nan\n",
      "nan\n",
      "nan\n",
      "nan\n",
      "nan\n",
      "nan\n",
      "nan\n",
      "nan\n",
      "nan\n",
      "nan\n",
      "nan\n",
      "nan\n",
      "nan\n",
      "nan\n",
      "nan\n",
      "nan\n",
      "nan\n",
      "nan\n",
      "nan\n",
      "nan\n",
      "nan\n",
      "nan\n",
      "nan\n",
      "nan\n",
      "nan\n",
      "nan\n",
      "nan\n",
      "nan\n",
      "nan\n",
      "nan\n",
      "nan\n",
      "nan\n",
      "nan\n",
      "nan\n",
      "nan\n",
      "nan\n",
      "nan\n",
      "nan\n",
      "nan\n",
      "nan\n",
      "nan\n",
      "nan\n",
      "nan\n",
      "nan\n",
      "nan\n",
      "nan\n",
      "nan\n",
      "nan\n",
      "nan\n",
      "nan\n",
      "nan\n",
      "nan\n",
      "nan\n",
      "nan\n",
      "nan\n",
      "nan\n",
      "nan\n",
      "nan\n",
      "nan\n",
      "nan\n",
      "nan\n",
      "nan\n",
      "nan\n",
      "nan\n",
      "nan\n",
      "nan\n",
      "nan\n",
      "nan\n",
      "nan\n",
      "nan\n",
      "nan\n",
      "nan\n",
      "nan\n",
      "nan\n",
      "nan\n",
      "nan\n",
      "nan\n",
      "nan\n",
      "nan\n",
      "nan\n",
      "nan\n",
      "nan\n",
      "nan\n",
      "nan\n",
      "nan\n",
      "nan\n",
      "nan\n",
      "nan\n",
      "nan\n",
      "nan\n",
      "nan\n",
      "nan\n",
      "nan\n",
      "nan\n",
      "nan\n",
      "nan\n",
      "nan\n",
      "nan\n",
      "nan\n",
      "nan\n",
      "nan\n",
      "nan\n",
      "nan\n",
      "nan\n",
      "nan\n",
      "nan\n",
      "nan\n",
      "nan\n",
      "nan\n",
      "nan\n",
      "nan\n",
      "nan\n",
      "nan\n",
      "nan\n",
      "nan\n",
      "nan\n",
      "nan\n",
      "nan\n",
      "nan\n",
      "nan\n",
      "nan\n",
      "nan\n",
      "nan\n",
      "nan\n",
      "nan\n",
      "nan\n",
      "nan\n",
      "nan\n",
      "nan\n",
      "nan\n",
      "nan\n",
      "nan\n",
      "nan\n",
      "nan\n",
      "nan\n",
      "nan\n",
      "nan\n",
      "nan\n",
      "nan\n",
      "nan\n",
      "nan\n",
      "nan\n",
      "nan\n",
      "nan\n",
      "nan\n",
      "nan\n",
      "nan\n",
      "nan\n",
      "nan\n",
      "nan\n"
     ]
    }
   ],
   "source": [
    "def over_nlp(p):\n",
    "    try:\n",
    "        return nlp(p).vector\n",
    "    except:\n",
    "        print(p)\n",
    "        \n",
    "transformed_overview = DF['Overview'].apply(over_nlp)"
   ]
  },
  {
   "cell_type": "code",
   "execution_count": null,
   "id": "7a16ca65",
   "metadata": {},
   "outputs": [],
   "source": []
  },
  {
   "cell_type": "code",
   "execution_count": null,
   "id": "8a7631af",
   "metadata": {},
   "outputs": [],
   "source": []
  },
  {
   "cell_type": "markdown",
   "id": "71bc5ee6",
   "metadata": {},
   "source": [
    "## Ideas\n",
    "\n",
    "Genre - vectorize genres\n",
    "\n",
    "overview - Use bert for txt similarity or spacy sentence encoding\n",
    "\n"
   ]
  },
  {
   "cell_type": "code",
   "execution_count": null,
   "id": "3e5d30f2",
   "metadata": {},
   "outputs": [],
   "source": [
    "df['Plot Kyeword'].sample(10).values"
   ]
  },
  {
   "cell_type": "code",
   "execution_count": null,
   "id": "60bc35c9",
   "metadata": {},
   "outputs": [],
   "source": [
    "df['Generes'].values.flatten()"
   ]
  },
  {
   "cell_type": "code",
   "execution_count": null,
   "id": "a1b75a9d",
   "metadata": {},
   "outputs": [],
   "source": [
    "df['Generes'].apply(literal_eval).explode().unique().tolist()"
   ]
  },
  {
   "cell_type": "code",
   "execution_count": null,
   "id": "07312189",
   "metadata": {},
   "outputs": [],
   "source": [
    "import re\n",
    "\n",
    "string = \"(1) (2022).\"\n",
    "pattern = r\"\\b\\d{4}\\b\"\n",
    "year = re.findall(pattern, string)[0]\n",
    "print(year)"
   ]
  },
  {
   "cell_type": "code",
   "execution_count": null,
   "id": "54ac561b",
   "metadata": {
    "scrolled": true
   },
   "outputs": [],
   "source": [
    "df['movie title'].unique().tolist()"
   ]
  },
  {
   "cell_type": "code",
   "execution_count": null,
   "id": "093214d8",
   "metadata": {},
   "outputs": [],
   "source": []
  },
  {
   "cell_type": "markdown",
   "id": "cb763d1c",
   "metadata": {},
   "source": [
    "# EDA"
   ]
  },
  {
   "cell_type": "code",
   "execution_count": 5,
   "id": "df129a89",
   "metadata": {},
   "outputs": [],
   "source": [
    "df = DF"
   ]
  },
  {
   "cell_type": "code",
   "execution_count": 6,
   "id": "febd0901",
   "metadata": {},
   "outputs": [
    {
     "data": {
      "text/plain": [
       "Index(['movie title', 'Run Time', 'Rating', 'User Rating', 'Generes',\n",
       "       'Overview', 'Plot Kyeword', 'Director', 'Top 5 Casts', 'Writer', 'year',\n",
       "       'path'],\n",
       "      dtype='object')"
      ]
     },
     "execution_count": 6,
     "metadata": {},
     "output_type": "execute_result"
    }
   ],
   "source": [
    "df.columns"
   ]
  },
  {
   "cell_type": "code",
   "execution_count": 7,
   "id": "1c289b64",
   "metadata": {},
   "outputs": [
    {
     "data": {
      "text/plain": [
       "<Axes: >"
      ]
     },
     "execution_count": 7,
     "metadata": {},
     "output_type": "execute_result"
    },
    {
     "data": {
      "image/png": "[encoded data removed]",
      "text/plain": [
       "<Figure size 640x480 with 1 Axes>"
      ]
     },
     "metadata": {},
     "output_type": "display_data"
    }
   ],
   "source": [
    "df['Generes'].explode().value_counts().plot(kind='bar')"
   ]
  },
  {
   "cell_type": "code",
   "execution_count": 8,
   "id": "2f10dbf4",
   "metadata": {},
   "outputs": [],
   "source": [
    "df['Plot Kyeword'] = df['Plot Kyeword'].apply(literal_eval)\n",
    "# .explode().value_counts().plot(kind='bar')"
   ]
  },
  {
   "cell_type": "code",
   "execution_count": 13,
   "id": "4acf27c3",
   "metadata": {},
   "outputs": [
    {
     "data": {
      "text/plain": [
       "<Axes: >"
      ]
     },
     "execution_count": 13,
     "metadata": {},
     "output_type": "execute_result"
    },
    {
     "data": {
      "image/png": "[encoded data removed]",
      "text/plain": [
       "<Figure size 640x480 with 1 Axes>"
      ]
     },
     "metadata": {},
     "output_type": "display_data"
    }
   ],
   "source": [
    "vc = df['Plot Kyeword'].explode().value_counts()\n",
    "vc[vc > 300].plot(kind='bar')"
   ]
  },
  {
   "cell_type": "code",
   "execution_count": 89,
   "id": "819f1fe6",
   "metadata": {},
   "outputs": [],
   "source": [
    "import re\n",
    "\n",
    "# year processing\n",
    "def year_func(inp):\n",
    "    pattern = r\"\\b\\d{4}\\b\"\n",
    "    if type(inp) == str:\n",
    "        y = re.findall(pattern, inp)\n",
    "        if len(y) > 0:\n",
    "            return y[0]\n",
    "    return '0000'\n",
    "\n",
    "vc = df['year'].apply(year_func).value_counts()\n"
   ]
  },
  {
   "cell_type": "code",
   "execution_count": 90,
   "id": "d05bae05",
   "metadata": {},
   "outputs": [],
   "source": [
    "vc = vc[vc.index != '0000']"
   ]
  },
  {
   "cell_type": "code",
   "execution_count": 91,
   "id": "aa60c531",
   "metadata": {},
   "outputs": [],
   "source": [
    "vc.index = pd.to_datetime(vc.index)"
   ]
  },
  {
   "cell_type": "code",
   "execution_count": 92,
   "id": "ffd66ac4",
   "metadata": {},
   "outputs": [],
   "source": [
    "vc.sort_index(ascending=True,inplace=True)"
   ]
  },
  {
   "cell_type": "code",
   "execution_count": 93,
   "id": "cc4a9611",
   "metadata": {},
   "outputs": [
    {
     "data": {
      "text/plain": [
       "1906-01-01     1\n",
       "1913-01-01     1\n",
       "1914-01-01     4\n",
       "1915-01-01     3\n",
       "1916-01-01     1\n",
       "              ..\n",
       "2024-01-01    17\n",
       "2025-01-01    13\n",
       "2026-01-01     3\n",
       "2027-01-01     5\n",
       "2028-01-01     2\n",
       "Name: year, Length: 116, dtype: int64"
      ]
     },
     "execution_count": 93,
     "metadata": {},
     "output_type": "execute_result"
    }
   ],
   "source": [
    "vc"
   ]
  },
  {
   "cell_type": "code",
   "execution_count": 99,
   "id": "8c404d98",
   "metadata": {},
   "outputs": [
    {
     "data": {
      "text/plain": [
       "Text(0, 0.5, 'Number of Movies Released')"
      ]
     },
     "execution_count": 99,
     "metadata": {},
     "output_type": "execute_result"
    },
    {
     "data": {
      "image/png": "[encoded data removed]",
      "text/plain": [
       "<Figure size 2000x1000 with 1 Axes>"
      ]
     },
     "metadata": {},
     "output_type": "display_data"
    }
   ],
   "source": [
    "fig = plt.figure(figsize=(20, 10))\n",
    "plt.bar(vc.index,vc.values,200)\n",
    "plt.xticks(rotation=45, ha='right')\n",
    "plt.grid()\n",
    "plt.xlabel('Year')\n",
    "plt.ylabel('Number of Movies Released')"
   ]
  },
  {
   "cell_type": "code",
   "execution_count": null,
   "id": "9a1ab8ff",
   "metadata": {},
   "outputs": [],
   "source": []
  }
 ],
 "metadata": {
  "kernelspec": {
   "display_name": "Python [conda env:colab]",
   "language": "python",
   "name": "conda-env-colab-py"
  },
  "language_info": {
   "codemirror_mode": {
    "name": "ipython",
    "version": 3
   },
   "file_extension": ".py",
   "mimetype": "text/x-python",
   "name": "python",
   "nbconvert_exporter": "python",
   "pygments_lexer": "ipython3",
   "version": "3.9.16"
  }
 },
 "nbformat": 4,
 "nbformat_minor": 5
}
